{
 "cells": [
  {
   "cell_type": "code",
   "execution_count": 1,
   "metadata": {},
   "outputs": [
    {
     "name": "stdout",
     "output_type": "stream",
     "text": [
      "Requirement already satisfied: tutormagic in /usr/local/lib/python3.5/dist-packages (0.3.0)\n",
      "Requirement already satisfied: notebook>=3.0 in /usr/local/lib/python3.5/dist-packages (from tutormagic) (5.5.0)\n",
      "Requirement already satisfied: terminado>=0.8.1 in /usr/local/lib/python3.5/dist-packages (from notebook>=3.0->tutormagic) (0.8.1)\n",
      "Requirement already satisfied: ipykernel in /usr/local/lib/python3.5/dist-packages (from notebook>=3.0->tutormagic) (4.8.2)\n",
      "Requirement already satisfied: nbformat in /usr/local/lib/python3.5/dist-packages (from notebook>=3.0->tutormagic) (4.4.0)\n",
      "Requirement already satisfied: nbconvert in /usr/local/lib/python3.5/dist-packages (from notebook>=3.0->tutormagic) (5.3.1)\n",
      "Requirement already satisfied: ipython-genutils in /usr/local/lib/python3.5/dist-packages (from notebook>=3.0->tutormagic) (0.2.0)\n",
      "Requirement already satisfied: tornado>=4 in /usr/local/lib/python3.5/dist-packages (from notebook>=3.0->tutormagic) (5.0.2)\n",
      "Requirement already satisfied: traitlets>=4.2.1 in /usr/local/lib/python3.5/dist-packages (from notebook>=3.0->tutormagic) (4.3.2)\n",
      "Requirement already satisfied: jupyter-core>=4.4.0 in /usr/local/lib/python3.5/dist-packages (from notebook>=3.0->tutormagic) (4.4.0)\n",
      "Collecting pyzmq>=17 (from notebook>=3.0->tutormagic)\n",
      "  Using cached https://files.pythonhosted.org/packages/66/cf/979427611e7e1ad7cfb762139fc69a4db9b176aee55bf1379d57260fcf05/pyzmq-18.1.0-cp35-cp35m-manylinux1_x86_64.whl\n",
      "Requirement already satisfied: jinja2 in /usr/lib/python3/dist-packages (from notebook>=3.0->tutormagic) (2.8)\n",
      "Requirement already satisfied: jupyter-client>=5.2.0 in /usr/local/lib/python3.5/dist-packages (from notebook>=3.0->tutormagic) (5.2.3)\n",
      "Requirement already satisfied: Send2Trash in /usr/local/lib/python3.5/dist-packages (from notebook>=3.0->tutormagic) (1.5.0)\n",
      "Requirement already satisfied: ptyprocess; os_name != \"nt\" in /usr/lib/python3/dist-packages (from terminado>=0.8.1->notebook>=3.0->tutormagic) (0.5)\n",
      "Requirement already satisfied: ipython>=4.0.0 in /usr/local/lib/python3.5/dist-packages (from ipykernel->notebook>=3.0->tutormagic) (6.4.0)\n",
      "Requirement already satisfied: jsonschema!=2.5.0,>=2.4 in /usr/lib/python3/dist-packages (from nbformat->notebook>=3.0->tutormagic) (2.5.1)\n",
      "Requirement already satisfied: mistune>=0.7.4 in /usr/local/lib/python3.5/dist-packages (from nbconvert->notebook>=3.0->tutormagic) (0.8.3)\n",
      "Requirement already satisfied: pandocfilters>=1.4.1 in /usr/local/lib/python3.5/dist-packages (from nbconvert->notebook>=3.0->tutormagic) (1.4.2)\n",
      "Requirement already satisfied: pygments in /usr/lib/python3/dist-packages (from nbconvert->notebook>=3.0->tutormagic) (2.1)\n",
      "Requirement already satisfied: bleach in /usr/local/lib/python3.5/dist-packages (from nbconvert->notebook>=3.0->tutormagic) (2.1.3)\n",
      "Requirement already satisfied: entrypoints>=0.2.2 in /usr/local/lib/python3.5/dist-packages (from nbconvert->notebook>=3.0->tutormagic) (0.2.3)\n",
      "Requirement already satisfied: testpath in /usr/local/lib/python3.5/dist-packages (from nbconvert->notebook>=3.0->tutormagic) (0.3.1)\n",
      "Requirement already satisfied: decorator in /usr/lib/python3/dist-packages (from traitlets>=4.2.1->notebook>=3.0->tutormagic) (4.0.6)\n",
      "Requirement already satisfied: six in /usr/lib/python3/dist-packages (from traitlets>=4.2.1->notebook>=3.0->tutormagic) (1.10.0)\n",
      "Requirement already satisfied: python-dateutil>=2.1 in /usr/local/lib/python3.5/dist-packages (from jupyter-client>=5.2.0->notebook>=3.0->tutormagic) (2.8.0)\n",
      "Requirement already satisfied: prompt-toolkit<2.0.0,>=1.0.15 in /usr/local/lib/python3.5/dist-packages (from ipython>=4.0.0->ipykernel->notebook>=3.0->tutormagic) (1.0.15)\n",
      "Requirement already satisfied: backcall in /usr/local/lib/python3.5/dist-packages (from ipython>=4.0.0->ipykernel->notebook>=3.0->tutormagic) (0.1.0)\n",
      "Requirement already satisfied: setuptools>=18.5 in /usr/lib/python3/dist-packages (from ipython>=4.0.0->ipykernel->notebook>=3.0->tutormagic) (20.7.0)\n",
      "Requirement already satisfied: simplegeneric>0.8 in /usr/local/lib/python3.5/dist-packages (from ipython>=4.0.0->ipykernel->notebook>=3.0->tutormagic) (0.8.1)\n",
      "Requirement already satisfied: pickleshare in /usr/local/lib/python3.5/dist-packages (from ipython>=4.0.0->ipykernel->notebook>=3.0->tutormagic) (0.7.4)\n",
      "Requirement already satisfied: jedi>=0.10 in /usr/local/lib/python3.5/dist-packages (from ipython>=4.0.0->ipykernel->notebook>=3.0->tutormagic) (0.12.0)\n",
      "Requirement already satisfied: pexpect; sys_platform != \"win32\" in /usr/lib/python3/dist-packages (from ipython>=4.0.0->ipykernel->notebook>=3.0->tutormagic) (4.0.1)\n",
      "Collecting html5lib!=1.0b1,!=1.0b2,!=1.0b3,!=1.0b4,!=1.0b5,!=1.0b6,!=1.0b7,!=1.0b8,>=0.99999999pre (from bleach->nbconvert->notebook>=3.0->tutormagic)\n",
      "  Using cached https://files.pythonhosted.org/packages/a5/62/bbd2be0e7943ec8504b517e62bab011b4946e1258842bc159e5dfde15b96/html5lib-1.0.1-py2.py3-none-any.whl\n",
      "Requirement already satisfied: wcwidth in /usr/local/lib/python3.5/dist-packages (from prompt-toolkit<2.0.0,>=1.0.15->ipython>=4.0.0->ipykernel->notebook>=3.0->tutormagic) (0.1.7)\n",
      "Requirement already satisfied: parso>=0.2.0 in /usr/local/lib/python3.5/dist-packages (from jedi>=0.10->ipython>=4.0.0->ipykernel->notebook>=3.0->tutormagic) (0.2.1)\n",
      "Requirement already satisfied: webencodings in /usr/local/lib/python3.5/dist-packages (from html5lib!=1.0b1,!=1.0b2,!=1.0b3,!=1.0b4,!=1.0b5,!=1.0b6,!=1.0b7,!=1.0b8,>=0.99999999pre->bleach->nbconvert->notebook>=3.0->tutormagic) (0.5.1)\n",
      "Installing collected packages: pyzmq, html5lib\n",
      "  Found existing installation: pyzmq 15.2.0\n",
      "\u001b[31mCannot uninstall 'pyzmq'. It is a distutils installed project and thus we cannot accurately determine which files belong to it which would lead to only a partial uninstall.\u001b[0m\n",
      "\u001b[33mYou are using pip version 19.0.3, however version 19.3.1 is available.\n",
      "You should consider upgrading via the 'pip install --upgrade pip' command.\u001b[0m\n"
     ]
    }
   ],
   "source": [
    "!pip3 install tutormagic"
   ]
  },
  {
   "cell_type": "code",
   "execution_count": 2,
   "metadata": {},
   "outputs": [],
   "source": [
    "%load_ext tutormagic"
   ]
  },
  {
   "cell_type": "markdown",
   "metadata": {},
   "source": [
    "## Matrices ##"
   ]
  },
  {
   "cell_type": "markdown",
   "metadata": {},
   "source": [
    "### Declaración ###"
   ]
  },
  {
   "cell_type": "code",
   "execution_count": 5,
   "metadata": {},
   "outputs": [
    {
     "data": {
      "text/html": [
       "<div class=\"text-center\"><strong><a style=\"box-sizing: border-box; padding: 0 5px; border: 1px solid #CFCFCF;\" target=\"_\" href=http://pythontutor.com/iframe-embed.html#code=%0Apublic%20class%20MatrixExample1%20%7B%0A%20%20%20%20public%20static%20void%20main%28String%5B%5D%20args%29%20%7B%0A%20%20%20%20%20%20%20%20%0A%20%20%20%20%20%20%20%20char%20pantalla%5B%5D%5B%5D%20%3D%20pantalla%20%3D%20new%20char%5B4%5D%5B3%5D%3B%0A%20%20%20%20%20%20%20%20%0A%20%20%20%20%20%20%20%20int%20puestos%5B%5D%5B%5D%3B%0A%20%20%20%20%20%20%20%20puestos%20%3D%20new%20int%5B5%5D%5B2%5D%3B%0A%20%20%20%20%20%20%20%20%0A%20%20%20%20%20%20%20%20final%20int%20N%20%3D%204%3B%0A%20%20%20%20%20%20%20%20double%20%5B%5D%5B%5Dmatriz%3B%0A%20%20%20%20%20%20%20%20matriz%20%3D%20new%20double%5BN%5D%5BN%5D%3B%0A%0A%20%20%20%20%7D%0A%7D&origin=opt-frontend.js&cumulative=false&heapPrimitives=false&textReferences=false&curInstr=0&&verticalStack=false&py=java&rawInputLstJSON=%5B%5D&codeDivWidth=50%25&codeDivHeight=100%25>Python Tutor</a></strong></div>"
      ],
      "text/plain": [
       "<IPython.core.display.HTML object>"
      ]
     },
     "metadata": {},
     "output_type": "display_data"
    }
   ],
   "source": [
    "%%tutor -l java -k\n",
    "\n",
    "public class MatrixExample1 {\n",
    "    public static void main(String[] args) {\n",
    "        \n",
    "        char pantalla[][] = pantalla = new char[4][3];\n",
    "        \n",
    "        int puestos[][];\n",
    "        puestos = new int[5][2];\n",
    "        \n",
    "        final int N = 4;\n",
    "        double [][]matriz;\n",
    "        matriz = new double[N][N];\n",
    "\n",
    "    }\n",
    "}"
   ]
  },
  {
   "cell_type": "markdown",
   "metadata": {},
   "source": [
    "### Inicialización de arreglos multidimensionales ###"
   ]
  },
  {
   "cell_type": "code",
   "execution_count": 6,
   "metadata": {},
   "outputs": [
    {
     "data": {
      "text/html": [
       "<div class=\"text-center\"><strong><a style=\"box-sizing: border-box; padding: 0 5px; border: 1px solid #CFCFCF;\" target=\"_\" href=http://pythontutor.com/iframe-embed.html#code=%0Apublic%20class%20MatrixExample2%20%7B%0A%20%20%20%20public%20static%20void%20main%28String%5B%5D%20args%29%20%7B%0A%20%20%20%20%20%20%20%20%0A%20%20%20%20%20%20%20%20int%20tabla1_1%5B%5D%5B%5D%20%3D%20%7B%20%7B51%2C%2052%2C%2053%7D%2C%7B54%2C%2055%2C%2056%7D%20%7D%3B%0A%20%20%20%20%20%20%20%20%0A%20%20%20%20%20%20%20%20int%20tabla1_2%5B%5D%5B%5D%3D%20%7B%20%7B51%2C%2052%2C%2053%7D%2C%0A%20%20%20%20%20%20%20%20%20%20%20%20%20%20%20%20%20%20%20%20%20%20%20%20%20%20%20%20%7B54%2C%2055%2C%2056%7D%20%7D%3B%0A%20%20%20%20%20%20%20%20%0A%20%20%20%20%20%20%20%20int%20tabla2%5B%5D%5B%5D%20%3D%20%7B%0A%20%20%20%20%20%20%20%20%20%20%20%20%20%20%20%20%20%20%20%20%20%20%20%20%20%20%20%7B1%2C%202%2C%203%2C%204%7D%2C%0A%20%20%20%20%20%20%20%20%20%20%20%20%20%20%20%20%20%20%20%20%20%20%20%20%20%20%20%7B5%2C%206%2C%207%2C%208%7D%2C%0A%20%20%20%20%20%20%20%20%20%20%20%20%20%20%20%20%20%20%20%20%20%20%20%20%20%20%20%7B9%2C%2010%2C%2011%2C%2012%7D%0A%20%20%20%20%20%20%20%20%20%20%20%20%20%20%20%20%20%20%20%20%20%20%20%20%20%7D%3B%0A%20%20%20%20%7D%0A%7D&origin=opt-frontend.js&cumulative=false&heapPrimitives=false&textReferences=false&curInstr=0&&verticalStack=false&py=java&rawInputLstJSON=%5B%5D&codeDivWidth=50%25&codeDivHeight=100%25>Python Tutor</a></strong></div>"
      ],
      "text/plain": [
       "<IPython.core.display.HTML object>"
      ]
     },
     "metadata": {},
     "output_type": "display_data"
    }
   ],
   "source": [
    "%%tutor -l java -k\n",
    "\n",
    "public class MatrixExample2 {\n",
    "    public static void main(String[] args) {\n",
    "        \n",
    "        int tabla1_1[][] = { {51, 52, 53},{54, 55, 56} };\n",
    "        \n",
    "        int tabla1_2[][]= { {51, 52, 53},\n",
    "                            {54, 55, 56} };\n",
    "        \n",
    "        int tabla2[][] = {\n",
    "                           {1, 2, 3, 4},\n",
    "                           {5, 6, 7, 8},\n",
    "                           {9, 10, 11, 12}\n",
    "                         };\n",
    "    }\n",
    "}"
   ]
  },
  {
   "cell_type": "markdown",
   "metadata": {},
   "source": [
    "###  Arreglos irregulares o triangulares ###"
   ]
  },
  {
   "cell_type": "code",
   "execution_count": 8,
   "metadata": {},
   "outputs": [
    {
     "data": {
      "text/html": [
       "<div class=\"text-center\"><strong><a style=\"box-sizing: border-box; padding: 0 5px; border: 1px solid #CFCFCF;\" target=\"_\" href=http://pythontutor.com/iframe-embed.html#code=%0Apublic%20class%20ArraysExample2%20%7B%0A%20%20%20%20public%20static%20void%20main%28String%5B%5D%20args%29%20%7B%0A%20%20%20%20%20%20%20%20//%20Forma%201%0A%20%20%20%20%20%20%20%20double%20%5B%5D%5B%5D%20numForma1%20%3D%20new%20double%5B2%5D%5B3%5D%3B%0A%20%20%20%20%20%20%20%20%0A%20%20%20%20%20%20%20%20//%20Forma%202%0A%20%20%20%20%20%20%20%20double%20%5B%5D%5B%5D%20numForma2%3B%0A%20%20%20%20%20%20%20%20numForma2%20%3D%20new%20double%5B2%5D%5B%5D%3B%0A%20%20%20%20%20%20%20%20numForma2%5B0%5D%20%3D%20new%20double%20%5B3%5D%3B%0A%20%20%20%20%20%20%20%20numForma2%5B1%5D%20%3D%20new%20double%20%5B3%5D%3B%0A%20%20%20%20%20%20%20%20%0A%20%20%20%20%20%20%20%20//%20Matrix%20irregular%0A%20%20%20%20%20%20%20%20double%20%5B%5D%5B%5D%20numIrreg%3B%0A%20%20%20%20%20%20%20%20numIrreg%20%3D%20new%20double%5B3%5D%5B%5D%3B%0A%20%20%20%20%20%20%20%20numIrreg%5B0%5D%20%3D%20new%20double%20%5B3%5D%3B%0A%20%20%20%20%20%20%20%20numIrreg%5B1%5D%20%3D%20new%20double%20%5B2%5D%3B%0A%20%20%20%20%20%20%20%20numIrreg%5B2%5D%20%3D%20new%20double%20%5B1%5D%3B%0A%20%20%20%20%7D%20%20%0A%7D&origin=opt-frontend.js&cumulative=false&heapPrimitives=false&textReferences=false&curInstr=0&&verticalStack=false&py=java&rawInputLstJSON=%5B%5D&codeDivWidth=50%25&codeDivHeight=100%25>Python Tutor</a></strong></div>"
      ],
      "text/plain": [
       "<IPython.core.display.HTML object>"
      ]
     },
     "metadata": {},
     "output_type": "display_data"
    }
   ],
   "source": [
    "%%tutor -l java -k\n",
    "\n",
    "public class ArraysExample2 {\n",
    "    public static void main(String[] args) {\n",
    "        // Forma 1\n",
    "        double [][] numForma1 = new double[2][3];\n",
    "        \n",
    "        // Forma 2\n",
    "        double [][] numForma2;\n",
    "        numForma2 = new double[2][];\n",
    "        numForma2[0] = new double [3];\n",
    "        numForma2[1] = new double [3];\n",
    "        \n",
    "        // Matrix irregular\n",
    "        double [][] numIrreg;\n",
    "        numIrreg = new double[3][];\n",
    "        numIrreg[0] = new double [3];\n",
    "        numIrreg[1] = new double [2];\n",
    "        numIrreg[2] = new double [1];\n",
    "    }  \n",
    "}"
   ]
  },
  {
   "cell_type": "markdown",
   "metadata": {},
   "source": [
    "### Acceso a los elementos de arreglos bidimensionales ###\n",
    "\n",
    "El formato general para asignación directa de valores a los elementos es:\n",
    "\n",
    "**Inserción de elementos**\n",
    "\n",
    "```java\n",
    "nombreArreglo[indiceFila][indiceCcolumna] = valorElemento;\n",
    "```\n",
    "\n",
    "**Extracción de elementos**\n",
    "\n",
    "```java\n",
    "variable = nombreArreglo[indiceFila][indiceCcolumna];\n",
    "```\n",
    "\n",
    "**Acceso a los elementos de la matrix**:\n",
    "\n",
    "* **Forma 1**: Con dos bucles anidados se accede a todos los elementos de una matriz; su sintaxis es:\n",
    "\n",
    "```java\n",
    "int fila, col;\n",
    "for (fila = 0; fila < numFilas; ++fila) {\n",
    "    for (col = 0; col < numCol; ++col) {\n",
    "        Procesar elemento Matriz[fila][col];\n",
    "    }\n",
    "}\n",
    "```\n",
    "\n",
    "* **Forma 2**: El número de filas y de columnas se puede obtener con el atributo length; en este\n",
    "caso, la sintaxis para acceder a los elementos es:\n",
    "\n",
    "```java\n",
    "<tipo> Matriz[][];\n",
    "<especificación de filas y columnas con operador new>\n",
    "for (fila = 0; fila < Matriz.length; ++fila) {\n",
    "    for (col = 0; col < Matriz[fila].length; ++col) {\n",
    "         Procesar elemento Matriz[fila][col];\n",
    "    }\n",
    "}         \n",
    "```"
   ]
  },
  {
   "cell_type": "markdown",
   "metadata": {},
   "source": [
    "### ejercicio 10.3 ###\n",
    "Codificar un programa para dar entrada y posterior visualización de un arreglo bidimensional.\n",
    "El método leer() da entrada a los elementos de la matriz que se pasa como argumento, y el método visualizar() muestra la tabla en la pantalla.\n",
    "\n",
    "**Solución**:\n",
    "\n",
    "```java\n",
    "import java.util.Scanner;\n",
    "\n",
    "class Tabla { \n",
    "    public static void main(String [] a) {\n",
    "        int v[][]= new int[3][5];\n",
    "        leer(v);\n",
    "        visualizar(v);\n",
    "    }\n",
    "    \n",
    "    static void leer(int a[][]) {\n",
    "        int i,j;\n",
    "        Scanner entrada = new Scanner(System.in);\n",
    "        System.out.println(\"Entrada de datos de la matriz\");\n",
    "        for (i = 0; i < a.length; i++) {\n",
    "            System.out.println(\"Fila: \" + i);\n",
    "            for (j = 0; j < a[i].length; j++)\n",
    "                a[i][j]= entrada.nextInt();\n",
    "        }\n",
    "    }\n",
    "    \n",
    "    static void visualizar (int a[][]) {\n",
    "        int i,j;\n",
    "        System.out.println(\"\\n\\t Matriz leída\\n\");for (i = 0; i < a.length; i++)\n",
    "        {\n",
    "            for (j = 0; j < a[i].length; j++)\n",
    "                System.out.print(a[i][j] + \" \");\n",
    "            System.out.println(\" \");\n",
    "        }\n",
    "    }\n",
    "}        \n",
    "```\n",
    "\n",
    "\n"
   ]
  },
  {
   "cell_type": "markdown",
   "metadata": {},
   "source": [
    "### Utilización de arreglos como parámetros ###\n",
    "\n",
    "   \n",
    "```java\n",
    "\n",
    "// Funcion\n",
    "void SumaDeMats(double m1[][], double m2[][]) {\n",
    "  // Codigo ...\n",
    "}\n",
    "\n",
    "// Invocación\n",
    "final int N = 5;\n",
    "double mat1[][] = new double[N][N];\n",
    "double mat2[][] = new double[N][N];\n",
    "SumaDeMats(mat1,mat2);\n",
    "```    "
   ]
  },
  {
   "cell_type": "markdown",
   "metadata": {},
   "source": [
    "### ejercicio 10.4 ###\n",
    "Haga un programa que lea un array e imprima el producto de sus elementos.\n",
    "\n",
    "**Solución**\n",
    "\n",
    "    \n",
    "```java\n",
    "import java.util.Scanner;\n",
    "\n",
    "class ProductoMat {\n",
    "    \n",
    "    static Scanner entrada = new Scanner(System.in);\n",
    "    \n",
    "    public static void main(String [] a) { \n",
    "        double v[];\n",
    "        int n;\n",
    "        System.out.print(\"Número de elementos: \");\n",
    "        n = entrada.nextInt();\n",
    "        v = new double[n];\n",
    "        leerArreglo (v);\n",
    "        System.out.println(\"El producto de los elementos = \" + producto(v));\n",
    "    }\n",
    "    \n",
    "    static void leerArreglo (double a[]) {\n",
    "        int n = 0;\n",
    "        System.out.println(\"Introduzca \" + a.length + \" datos.\");\n",
    "        for (; n < a.length; n++) {\n",
    "            a[n] = entrada.nextDouble();\n",
    "        }\n",
    "    }\n",
    "    \n",
    "    static double producto(double w[]) {\n",
    "        double pd = 1.0;\n",
    "        int n = w.length - 1;\n",
    "        while (n > 0) {\n",
    "            if (w[n] > 0.0) {\n",
    "                pd *= w[n--];\n",
    "            }\n",
    "            else {\n",
    "                n--;\n",
    "            }\n",
    "        }\n",
    "        return pd;\n",
    "    }\n",
    "}\n",
    "```"
   ]
  },
  {
   "cell_type": "markdown",
   "metadata": {},
   "source": [
    "### Precauciones ###\n",
    "\n",
    "Un método conoce cuántos elementos tiene el arreglo pasado como argumento pero\n",
    "puede ocurrir que no todos los elementos sean significativos; si esto ocurre, hay que pasar un segundo argumento que indique el número real de elementos.\n",
    "\n",
    "#### Ejemplo ###\n",
    "\n",
    "El método sumaDeEnteros() suma los valores de los n elementos de un arreglo y devuelve el resultado.\n",
    "\n",
    "**Solución**:\n",
    "    \n",
    "```java\n",
    "// Metodo\n",
    "int sumaDeEnteros(int[]arregloEnteros, int n) {\n",
    "    int i, s;\n",
    "    for (i = s = 0; i < n; )\n",
    "        s += arregloEnteros[i++];\n",
    "    return s;\n",
    "}\n",
    "...    \n",
    "// Invocacion\n",
    "int lista[] = new int[33];\n",
    "n = 10;\n",
    "sumaDeEnteros (lista, n);\n",
    "```"
   ]
  },
  {
   "cell_type": "markdown",
   "metadata": {},
   "source": [
    "### ejercicio 10.5 ###\n",
    "\n",
    "**Solución**:\n",
    "\n",
    "```java\n",
    "import java.util.Scanner;\n",
    "\n",
    "class SumaMax {\n",
    "    public static void main(String [] a) {\n",
    "        final int NUM = 21;\n",
    "        int items[] = new int[NUM];\n",
    "        int n;\n",
    "        n = entrada(items); // devuelve el número de elementos\n",
    "        System.out.println(\"\\nSuma de los elementos: \" +\n",
    "                sumaEnteros(items,n));\n",
    "        System.out.println(\"\\nValor máximo: \" + maximo(items,n));\n",
    "    }\n",
    "\n",
    "    static int entrada(int w[]) {\n",
    "        int k = 0, x;\n",
    "        Scanner entrada = new Scanner(System.in);\n",
    "        System.out.println(\"Introduzca un máximo de \" + w.length + \"datos, terminar con -1\");\n",
    "        do {\n",
    "            x = entrada.nextInt();\n",
    "            if (x != -1 )\n",
    "                w[k++] = x;\n",
    "        } while ((k < w.length) && (x != -1));\n",
    "        return k;\n",
    "    }\n",
    "\n",
    "    static int sumaEnteros(int w [], int n) {\n",
    "        int i, total = 0;\n",
    "        for (i = 0; i < n; i++)\n",
    "            total += w[i];\n",
    "        return total;\n",
    "    }\n",
    "\n",
    "    static int maximo(int w[], int n) {\n",
    "        int mx, i;\n",
    "        mx = w[0];\n",
    "        for (i = 1; i < n; i++)\n",
    "            mx = (w[i]>mx ? w[i]: mx);\n",
    "        return mx;\n",
    "    }\n",
    "}\n",
    "```"
   ]
  },
  {
   "cell_type": "code",
   "execution_count": null,
   "metadata": {},
   "outputs": [],
   "source": []
  }
 ],
 "metadata": {
  "kernelspec": {
   "display_name": "Python 3",
   "language": "python",
   "name": "python3"
  },
  "language_info": {
   "codemirror_mode": {
    "name": "ipython",
    "version": 3
   },
   "file_extension": ".py",
   "mimetype": "text/x-python",
   "name": "python",
   "nbconvert_exporter": "python",
   "pygments_lexer": "ipython3",
   "version": "3.4.6"
  }
 },
 "nbformat": 4,
 "nbformat_minor": 2
}
