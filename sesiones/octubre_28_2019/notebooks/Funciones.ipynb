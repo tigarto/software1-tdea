{
 "cells": [
  {
   "cell_type": "code",
   "execution_count": 1,
   "metadata": {},
   "outputs": [
    {
     "name": "stdout",
     "output_type": "stream",
     "text": [
      "Requirement already satisfied: tutormagic in /usr/local/lib/python3.5/dist-packages (0.3.0)\n",
      "Requirement already satisfied: notebook>=3.0 in /usr/local/lib/python3.5/dist-packages (from tutormagic) (5.5.0)\n",
      "Requirement already satisfied: nbformat in /usr/local/lib/python3.5/dist-packages (from notebook>=3.0->tutormagic) (4.4.0)\n",
      "Requirement already satisfied: jupyter-core>=4.4.0 in /usr/local/lib/python3.5/dist-packages (from notebook>=3.0->tutormagic) (4.4.0)\n",
      "Collecting pyzmq>=17 (from notebook>=3.0->tutormagic)\n",
      "  Using cached https://files.pythonhosted.org/packages/66/cf/979427611e7e1ad7cfb762139fc69a4db9b176aee55bf1379d57260fcf05/pyzmq-18.1.0-cp35-cp35m-manylinux1_x86_64.whl\n",
      "Requirement already satisfied: terminado>=0.8.1 in /usr/local/lib/python3.5/dist-packages (from notebook>=3.0->tutormagic) (0.8.1)\n",
      "Requirement already satisfied: ipython-genutils in /usr/local/lib/python3.5/dist-packages (from notebook>=3.0->tutormagic) (0.2.0)\n",
      "Requirement already satisfied: ipykernel in /usr/local/lib/python3.5/dist-packages (from notebook>=3.0->tutormagic) (4.8.2)\n",
      "Requirement already satisfied: jupyter-client>=5.2.0 in /usr/local/lib/python3.5/dist-packages (from notebook>=3.0->tutormagic) (5.2.3)\n",
      "Requirement already satisfied: Send2Trash in /usr/local/lib/python3.5/dist-packages (from notebook>=3.0->tutormagic) (1.5.0)\n",
      "Requirement already satisfied: traitlets>=4.2.1 in /usr/local/lib/python3.5/dist-packages (from notebook>=3.0->tutormagic) (4.3.2)\n",
      "Requirement already satisfied: tornado>=4 in /usr/local/lib/python3.5/dist-packages (from notebook>=3.0->tutormagic) (5.0.2)\n",
      "Requirement already satisfied: nbconvert in /usr/local/lib/python3.5/dist-packages (from notebook>=3.0->tutormagic) (5.3.1)\n",
      "Requirement already satisfied: jinja2 in /usr/lib/python3/dist-packages (from notebook>=3.0->tutormagic) (2.8)\n",
      "Requirement already satisfied: jsonschema!=2.5.0,>=2.4 in /usr/lib/python3/dist-packages (from nbformat->notebook>=3.0->tutormagic) (2.5.1)\n",
      "Requirement already satisfied: ptyprocess; os_name != \"nt\" in /usr/lib/python3/dist-packages (from terminado>=0.8.1->notebook>=3.0->tutormagic) (0.5)\n",
      "Requirement already satisfied: ipython>=4.0.0 in /usr/local/lib/python3.5/dist-packages (from ipykernel->notebook>=3.0->tutormagic) (6.4.0)\n",
      "Requirement already satisfied: python-dateutil>=2.1 in /usr/local/lib/python3.5/dist-packages (from jupyter-client>=5.2.0->notebook>=3.0->tutormagic) (2.8.0)\n",
      "Requirement already satisfied: six in /usr/lib/python3/dist-packages (from traitlets>=4.2.1->notebook>=3.0->tutormagic) (1.10.0)\n",
      "Requirement already satisfied: decorator in /usr/lib/python3/dist-packages (from traitlets>=4.2.1->notebook>=3.0->tutormagic) (4.0.6)\n",
      "Requirement already satisfied: pandocfilters>=1.4.1 in /usr/local/lib/python3.5/dist-packages (from nbconvert->notebook>=3.0->tutormagic) (1.4.2)\n",
      "Requirement already satisfied: pygments in /usr/lib/python3/dist-packages (from nbconvert->notebook>=3.0->tutormagic) (2.1)\n",
      "Requirement already satisfied: testpath in /usr/local/lib/python3.5/dist-packages (from nbconvert->notebook>=3.0->tutormagic) (0.3.1)\n",
      "Requirement already satisfied: entrypoints>=0.2.2 in /usr/local/lib/python3.5/dist-packages (from nbconvert->notebook>=3.0->tutormagic) (0.2.3)\n",
      "Requirement already satisfied: bleach in /usr/local/lib/python3.5/dist-packages (from nbconvert->notebook>=3.0->tutormagic) (2.1.3)\n",
      "Requirement already satisfied: mistune>=0.7.4 in /usr/local/lib/python3.5/dist-packages (from nbconvert->notebook>=3.0->tutormagic) (0.8.3)\n",
      "Requirement already satisfied: pickleshare in /usr/local/lib/python3.5/dist-packages (from ipython>=4.0.0->ipykernel->notebook>=3.0->tutormagic) (0.7.4)\n",
      "Requirement already satisfied: setuptools>=18.5 in /usr/lib/python3/dist-packages (from ipython>=4.0.0->ipykernel->notebook>=3.0->tutormagic) (20.7.0)\n",
      "Requirement already satisfied: backcall in /usr/local/lib/python3.5/dist-packages (from ipython>=4.0.0->ipykernel->notebook>=3.0->tutormagic) (0.1.0)\n",
      "Requirement already satisfied: pexpect; sys_platform != \"win32\" in /usr/lib/python3/dist-packages (from ipython>=4.0.0->ipykernel->notebook>=3.0->tutormagic) (4.0.1)\n",
      "Requirement already satisfied: prompt-toolkit<2.0.0,>=1.0.15 in /usr/local/lib/python3.5/dist-packages (from ipython>=4.0.0->ipykernel->notebook>=3.0->tutormagic) (1.0.15)\n",
      "Requirement already satisfied: jedi>=0.10 in /usr/local/lib/python3.5/dist-packages (from ipython>=4.0.0->ipykernel->notebook>=3.0->tutormagic) (0.12.0)\n",
      "Requirement already satisfied: simplegeneric>0.8 in /usr/local/lib/python3.5/dist-packages (from ipython>=4.0.0->ipykernel->notebook>=3.0->tutormagic) (0.8.1)\n",
      "Collecting html5lib!=1.0b1,!=1.0b2,!=1.0b3,!=1.0b4,!=1.0b5,!=1.0b6,!=1.0b7,!=1.0b8,>=0.99999999pre (from bleach->nbconvert->notebook>=3.0->tutormagic)\n",
      "  Using cached https://files.pythonhosted.org/packages/a5/62/bbd2be0e7943ec8504b517e62bab011b4946e1258842bc159e5dfde15b96/html5lib-1.0.1-py2.py3-none-any.whl\n",
      "Requirement already satisfied: wcwidth in /usr/local/lib/python3.5/dist-packages (from prompt-toolkit<2.0.0,>=1.0.15->ipython>=4.0.0->ipykernel->notebook>=3.0->tutormagic) (0.1.7)\n",
      "Requirement already satisfied: parso>=0.2.0 in /usr/local/lib/python3.5/dist-packages (from jedi>=0.10->ipython>=4.0.0->ipykernel->notebook>=3.0->tutormagic) (0.2.1)\n",
      "Requirement already satisfied: webencodings in /usr/local/lib/python3.5/dist-packages (from html5lib!=1.0b1,!=1.0b2,!=1.0b3,!=1.0b4,!=1.0b5,!=1.0b6,!=1.0b7,!=1.0b8,>=0.99999999pre->bleach->nbconvert->notebook>=3.0->tutormagic) (0.5.1)\n",
      "Installing collected packages: pyzmq, html5lib\n",
      "  Found existing installation: pyzmq 15.2.0\n",
      "\u001b[31mCannot uninstall 'pyzmq'. It is a distutils installed project and thus we cannot accurately determine which files belong to it which would lead to only a partial uninstall.\u001b[0m\n",
      "\u001b[33mYou are using pip version 19.0.3, however version 19.3.1 is available.\n",
      "You should consider upgrading via the 'pip install --upgrade pip' command.\u001b[0m\n"
     ]
    }
   ],
   "source": [
    "!pip3 install tutormagic\n",
    "%load_ext tutormagic"
   ]
  },
  {
   "cell_type": "markdown",
   "metadata": {},
   "source": [
    "# Funciones en java #"
   ]
  },
  {
   "cell_type": "markdown",
   "metadata": {},
   "source": [
    "## Formato general de un metodo ##\n",
    "\n",
    "La forma general de un metodo en java se muestra a continuación\n",
    "\n",
    "```java\n",
    "return_type method_name( parameter_list ) \n",
    "{ \n",
    "    declarations and statements... \n",
    "} \n",
    "```\n"
   ]
  },
  {
   "cell_type": "markdown",
   "metadata": {},
   "source": [
    "### Ejemplo 1 ###\n",
    "\n",
    "Codificar un metodo en java que permita calcular el cuadrado de un numero entero. Siga el formato general para ello:\n",
    "\n",
    "**Solución**:\n",
    "A continuación se muestra la función en java:\n",
    "\n",
    "```java\n",
    "public static int square( int i ) { \n",
    "   return i*i; \n",
    "} \n",
    "```\n",
    "\n",
    "**Donde:**\n",
    "* **Nombre del método**: square\n",
    "* **Tipo de dato retornado**: int\n",
    "* **Lista de parametros**: int i\n",
    "* **Expresión retornada**: i*i\n",
    "* **Sentencia de retorno**: return i*i\n"
   ]
  },
  {
   "cell_type": "markdown",
   "metadata": {},
   "source": [
    "## Invocación de un método ##\n",
    "\n",
    "A continuación se muestra la forma de invocar un método:\n",
    "\n",
    "```java\n",
    "return_datatype variable = method_name( parameter_list ); \n",
    "```"
   ]
  },
  {
   "cell_type": "markdown",
   "metadata": {},
   "source": [
    "### Ejemplo 2 ###\n",
    "\n",
    "Invoque la función ```square``` definida en el **ejemplo 1** para calcular el valor del cuadrado de 10. Asigne este resultado a una variable entera llamada ``result``\n",
    "\n",
    "**Solución**:\n",
    "\n",
    "```java\n",
    "int result = 5 * square( 10 ); // result is 5 * 100 = 500 \n",
    "```"
   ]
  },
  {
   "cell_type": "markdown",
   "metadata": {},
   "source": [
    "### Ejemplo 3 ###\n",
    "Hacer un programa que calcule todos los cuadrados de los numeros entre 1 y 10 empleando la funcion ```square```\n",
    "\n",
    "**Solucion**: A continuación se muestra el programa completo y listo para ejecutarse, observe bien la parte asociada a la definición de la función y a la invocación de esta."
   ]
  },
  {
   "cell_type": "code",
   "execution_count": 3,
   "metadata": {},
   "outputs": [
    {
     "data": {
      "text/html": [
       "<div class=\"text-center\"><strong><a style=\"box-sizing: border-box; padding: 0 5px; border: 1px solid #CFCFCF;\" target=\"_\" href=http://pythontutor.com/iframe-embed.html#code=%0Apublic%20class%20Math%20%7B%20%0A%20%20%20%20/%2ADefinicion%20de%20la%20funcion%2A/%0A%20%20%20%20public%20static%20int%20square%28%20int%20i%20%29%20%7B%20%0A%20%20%20%20%20%20%20%20return%20i%2Ai%3B%20%0A%20%20%20%20%7D%20%0A%20%20%20%20public%20static%20void%20main%28%20String%5B%5D%20args%20%29%20%7B%20%0A%20%20%20%20%20%20%20%20for%28%20int%20i%3D1%3B%20i%3C%3D10%3B%20i%2B%2B%20%29%20%7B%20%0A%20%20%20%20%20%20%20%20%20%20%20%20System.out.println%28%20%22i%3D%22%20%2B%20i%20%2B%20%22%2C%20i%2Ai%3D%22%20%2B%20square%28%20i%20%29%20/%2Ainvocacion%20de%20la%20funcion%2A/%20%29%3B%20%0A%20%20%20%20%20%20%20%20%7D%20%0A%20%20%20%20%7D%20%0A%7D%20&origin=opt-frontend.js&cumulative=false&heapPrimitives=false&textReferences=false&curInstr=0&&verticalStack=false&py=java&rawInputLstJSON=%5B%5D&codeDivWidth=50%25&codeDivHeight=100%25>Python Tutor</a></strong></div>"
      ],
      "text/plain": [
       "<IPython.core.display.HTML object>"
      ]
     },
     "metadata": {},
     "output_type": "display_data"
    }
   ],
   "source": [
    "%%tutor -l java -k\n",
    "\n",
    "public class Math { \n",
    "    \n",
    "    /* Definicion de la funcion square */\n",
    "    public static int square( int i ) { \n",
    "        return i*i; \n",
    "    } \n",
    "    \n",
    "    public static void main( String[] args ) { \n",
    "        for( int i=1; i<=10; i++ ) { \n",
    "            System.out.println( \"i=\" + i + \", i*i=\" + square( i ) /*invocacion de la funcion*/ ); \n",
    "        } \n",
    "    } \n",
    "} "
   ]
  },
  {
   "cell_type": "markdown",
   "metadata": {},
   "source": [
    "## Funciones que no retornan ##\n",
    "\n",
    "No toda función retorna valores una vez que es invocada. Para indicar esto en la definición de la función se coloca la palabra clave ```void``` tal y como se muestra en el siguiente elemplo.\n",
    "\n",
    "### Ejemplo 4 ###\n",
    "Realizar una función que imprima en pantalla el numero que se le pasa como argumento.\n",
    "\n",
    "**Solución**: Notese el empleo de ```void``` en la parte del retorno de la función:\n",
    "\n",
    "\n",
    "```java\n",
    "public static void printNumber( int n ) { \n",
    "   System.out.println( \"El numero es \" + n ); \n",
    "}\n",
    "```\n",
    "\n",
    "Como el metodo anterior no retorna ningun valor en la invocación no es necesario usar una variable a la cual se lleve un valor retornado, pues en el caso, no lo hay. El siguiente ejemplo clarifica esto.\n",
    "\n",
    "### Ejemplo 5 ###\n",
    "\n",
    "Invocar la función print number de modo para visualizar el valor de 10 el cual previamente es asignado a una variable entera llamada n.\n",
    "\n",
    "**Solución**: Notese que en la invocacación el resultado de la información no se lleva a nada.\n",
    "\n",
    "```java\n",
    "int n = 10; \n",
    "printNumber( n ); // Note the result in not assigned to anything \n",
    "```\n",
    "\n"
   ]
  },
  {
   "cell_type": "markdown",
   "metadata": {},
   "source": [
    "### Ejemplo 6 ###\n",
    "Codificar los siguiente métodos para los cuales se muestra la respectiva cabecera:\n",
    "1. **square**: Función que calcula el cuadrado de un número.\n",
    "\n",
    "    ```java\n",
    "    public static int square( int n )\n",
    "    ```\n",
    "\n",
    "2. **cube**: Función que calcula el cubo de un número.\n",
    "\n",
    "    ```java\n",
    "    public static int cube( int n )\n",
    "    ```\n",
    "    \n",
    "3. **toThePower**: Función que calcula la potencia cualquiera de un número.\n",
    "\n",
    "    ```java\n",
    "    public static int toThePowe( int n, int power )\n",
    "    ```\n",
    "\n",
    "4. **factorial**: Calcula el factorial de un numero.\n",
    "\n",
    "    ```java\n",
    "    public static int factorial( int n ) \n",
    "    ```\n",
    "5. **showNumber**: Funcón que imprime el resultado de una operación.\n",
    "\n",
    "     ```java\n",
    "    public static void showNumber( String operation, int n )\n",
    "    ```\n",
    "\n",
    "Una vez haya codificado los metodos anteriores haga las siguientes pruebas imprimiendo (para lo cual deberá hacer uso de la función ```showNumber```) en el metodo principal lo siguiente:\n",
    "1. El cuadrado del numero 5\n",
    "2. El cubo del numero 5\n",
    "3. El numero 5 elevado a la potencia 4.\n",
    "4. El factorial de 5.\n",
    "\n",
    "**Solución**: A continuación se muestra la solución del programa anterior:"
   ]
  },
  {
   "cell_type": "code",
   "execution_count": 4,
   "metadata": {},
   "outputs": [
    {
     "data": {
      "text/html": [
       "<div class=\"text-center\"><strong><a style=\"box-sizing: border-box; padding: 0 5px; border: 1px solid #CFCFCF;\" target=\"_\" href=http://pythontutor.com/iframe-embed.html#code=%0Apublic%20class%20Math2%20%7B%20%0A%20%20%20%20%0A%20%20%20%20public%20static%20int%20square%28%20int%20n%20%29%20%7B%20%0A%20%20%20%20%20%20%20%20return%20n%2An%3B%20%0A%20%20%20%20%7D%20%0A%20%20%20%20public%20static%20int%20cube%28%20int%20n%20%29%20%7B%20%0A%20%20%20%20%20%20%20%20return%20n%2An%2An%3B%20%0A%20%20%20%20%7D%20%0A%20%0A%20%20%20%20public%20static%20int%20toThePower%28%20int%20n%2C%20int%20power%20%29%20%7B%20%0A%20%20%20%20%20%20%20%20int%20result%3Dn%3B%20%0A%20%20%20%20%20%20%20%20for%28%20int%20i%3D0%3B%20i%3Cpower%3B%20i%2B%2B%20%29%20%7B%20%0A%20%20%20%20%20%20%20%20%20%20%20%20result%20%2A%3D%20n%3B%20%0A%20%20%20%20%20%20%20%20%7D%20%0A%20%20%20%20%20%20%20%20return%20result%3B%20%0A%20%20%20%20%7D%20%0A%0A%20%20%20%20public%20static%20int%20factorial%28%20int%20n%20%29%20%7B%20%0A%20%20%20%20%20%20%20%20int%20result%20%3D%20n%3B%20%0A%20%20%20%20%20%20%20%20for%28%20int%20i%3Dn-1%3B%20i%3E0%3B%20i--%20%29%20%7B%20%0A%20%20%20%20%20%20%20%20%20%20%20%20result%20%2A%3D%20i%3B%20%0A%20%20%20%20%20%20%20%20%7D%20%0A%20%20%20%20%20%20%20%20return%20result%3B%20%0A%20%20%20%20%7D%20%0A%20%20%20%20%20%0A%20%20%20%20public%20static%20void%20showNumber%28%20String%20operation%2C%20int%20n%20%29%20%7B%20%0A%20%20%20%20%20%20%20%20System.out.println%28%20%22The%20result%20of%20the%20%22%20%2B%20operation%20%2B%20%22%20is%20%22%20%2B%20n%20%29%3B%20%20%0A%20%20%20%20%7D%20%0A%20%20%20%20%0A%20%20%20%20public%20static%20void%20main%28%20String%5B%5D%20args%20%29%20%7B%20%0A%20%20%20%20%20%20%20%20int%20a%20%3D%205%3B%0A%20%20%20%20%20%20%20%20showNumber%28%20%22Square%22%2C%20square%28%20a%20%29%20%29%3B%20%0A%20%20%20%20%20%20%20%20showNumber%28%20%22Cube%22%2C%20cube%28%20a%20%29%20%29%3B%20%0A%20%20%20%20%20%20%20%20showNumber%28%20%22To%20The%20Power%22%2C%20toThePower%28%20a%2C%204%20%29%20%29%3B%20%0A%20%20%20%20%20%20%20%20showNumber%28%20%22Factorial%22%2C%20factorial%28%20a%20%29%20%29%3B%20%0A%20%20%20%20%7D%20%0A%7D%20&origin=opt-frontend.js&cumulative=false&heapPrimitives=false&textReferences=false&curInstr=0&&verticalStack=false&py=java&rawInputLstJSON=%5B%5D&codeDivWidth=50%25&codeDivHeight=100%25>Python Tutor</a></strong></div>"
      ],
      "text/plain": [
       "<IPython.core.display.HTML object>"
      ]
     },
     "metadata": {},
     "output_type": "display_data"
    }
   ],
   "source": [
    "%%tutor -l java -k\n",
    "\n",
    "public class Math2 { \n",
    "    \n",
    "    public static int square( int n ) { \n",
    "        return n*n; \n",
    "    } \n",
    "    public static int cube( int n ) { \n",
    "        return n*n*n; \n",
    "    } \n",
    " \n",
    "    public static int toThePower( int n, int power ) { \n",
    "        int result=n; \n",
    "        for( int i=0; i<power; i++ ) { \n",
    "            result *= n; \n",
    "        } \n",
    "        return result; \n",
    "    } \n",
    "\n",
    "    public static int factorial( int n ) { \n",
    "        int result = n; \n",
    "        for( int i=n-1; i>0; i-- ) { \n",
    "            result *= i; \n",
    "        } \n",
    "        return result; \n",
    "    } \n",
    "     \n",
    "    public static void showNumber( String operation, int n ) { \n",
    "        System.out.println( \"The result of the \" + operation + \" is \" + n );  \n",
    "    } \n",
    "    \n",
    "    public static void main( String[] args ) { \n",
    "        int a = 5;\n",
    "        showNumber( \"Square\", square( a ) ); \n",
    "        showNumber( \"Cube\", cube( a ) ); \n",
    "        showNumber( \"To The Power\", toThePower( a, 4 ) ); \n",
    "        showNumber( \"Factorial\", factorial( a ) ); \n",
    "    } \n",
    "} "
   ]
  },
  {
   "cell_type": "markdown",
   "metadata": {},
   "source": [
    "## Pendiente ##\n",
    "1. Scope.\n",
    "2. Overloading.\n",
    "3. Recursion."
   ]
  },
  {
   "cell_type": "code",
   "execution_count": null,
   "metadata": {},
   "outputs": [],
   "source": []
  }
 ],
 "metadata": {
  "kernelspec": {
   "display_name": "Python 3",
   "language": "python",
   "name": "python3"
  },
  "language_info": {
   "codemirror_mode": {
    "name": "ipython",
    "version": 3
   },
   "file_extension": ".py",
   "mimetype": "text/x-python",
   "name": "python",
   "nbconvert_exporter": "python",
   "pygments_lexer": "ipython3",
   "version": "3.4.6"
  }
 },
 "nbformat": 4,
 "nbformat_minor": 2
}
