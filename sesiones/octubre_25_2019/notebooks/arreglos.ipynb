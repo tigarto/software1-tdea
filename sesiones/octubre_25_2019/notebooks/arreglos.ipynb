{
 "cells": [
  {
   "cell_type": "code",
   "execution_count": 3,
   "metadata": {},
   "outputs": [
    {
     "name": "stdout",
     "output_type": "stream",
     "text": [
      "Requirement already satisfied: tutormagic in /usr/local/lib/python3.5/dist-packages (0.3.0)\n",
      "Requirement already satisfied: notebook>=3.0 in /usr/local/lib/python3.5/dist-packages (from tutormagic) (5.5.0)\n",
      "Requirement already satisfied: terminado>=0.8.1 in /usr/local/lib/python3.5/dist-packages (from notebook>=3.0->tutormagic) (0.8.1)\n",
      "Requirement already satisfied: jinja2 in /usr/lib/python3/dist-packages (from notebook>=3.0->tutormagic) (2.8)\n",
      "Requirement already satisfied: ipython-genutils in /usr/local/lib/python3.5/dist-packages (from notebook>=3.0->tutormagic) (0.2.0)\n",
      "Collecting pyzmq>=17 (from notebook>=3.0->tutormagic)\n",
      "  Using cached https://files.pythonhosted.org/packages/66/cf/979427611e7e1ad7cfb762139fc69a4db9b176aee55bf1379d57260fcf05/pyzmq-18.1.0-cp35-cp35m-manylinux1_x86_64.whl\n",
      "Requirement already satisfied: tornado>=4 in /usr/local/lib/python3.5/dist-packages (from notebook>=3.0->tutormagic) (5.0.2)\n",
      "Requirement already satisfied: traitlets>=4.2.1 in /usr/local/lib/python3.5/dist-packages (from notebook>=3.0->tutormagic) (4.3.2)\n",
      "Requirement already satisfied: nbconvert in /usr/local/lib/python3.5/dist-packages (from notebook>=3.0->tutormagic) (5.3.1)\n",
      "Requirement already satisfied: ipykernel in /usr/local/lib/python3.5/dist-packages (from notebook>=3.0->tutormagic) (4.8.2)\n",
      "Requirement already satisfied: jupyter-client>=5.2.0 in /usr/local/lib/python3.5/dist-packages (from notebook>=3.0->tutormagic) (5.2.3)\n",
      "Requirement already satisfied: nbformat in /usr/local/lib/python3.5/dist-packages (from notebook>=3.0->tutormagic) (4.4.0)\n",
      "Requirement already satisfied: Send2Trash in /usr/local/lib/python3.5/dist-packages (from notebook>=3.0->tutormagic) (1.5.0)\n",
      "Requirement already satisfied: jupyter-core>=4.4.0 in /usr/local/lib/python3.5/dist-packages (from notebook>=3.0->tutormagic) (4.4.0)\n",
      "Requirement already satisfied: ptyprocess; os_name != \"nt\" in /usr/lib/python3/dist-packages (from terminado>=0.8.1->notebook>=3.0->tutormagic) (0.5)\n",
      "Requirement already satisfied: six in /usr/lib/python3/dist-packages (from traitlets>=4.2.1->notebook>=3.0->tutormagic) (1.10.0)\n",
      "Requirement already satisfied: decorator in /usr/lib/python3/dist-packages (from traitlets>=4.2.1->notebook>=3.0->tutormagic) (4.0.6)\n",
      "Requirement already satisfied: entrypoints>=0.2.2 in /usr/local/lib/python3.5/dist-packages (from nbconvert->notebook>=3.0->tutormagic) (0.2.3)\n",
      "Requirement already satisfied: mistune>=0.7.4 in /usr/local/lib/python3.5/dist-packages (from nbconvert->notebook>=3.0->tutormagic) (0.8.3)\n",
      "Requirement already satisfied: bleach in /usr/local/lib/python3.5/dist-packages (from nbconvert->notebook>=3.0->tutormagic) (2.1.3)\n",
      "Requirement already satisfied: pandocfilters>=1.4.1 in /usr/local/lib/python3.5/dist-packages (from nbconvert->notebook>=3.0->tutormagic) (1.4.2)\n",
      "Requirement already satisfied: testpath in /usr/local/lib/python3.5/dist-packages (from nbconvert->notebook>=3.0->tutormagic) (0.3.1)\n",
      "Requirement already satisfied: pygments in /usr/lib/python3/dist-packages (from nbconvert->notebook>=3.0->tutormagic) (2.1)\n",
      "Requirement already satisfied: ipython>=4.0.0 in /usr/local/lib/python3.5/dist-packages (from ipykernel->notebook>=3.0->tutormagic) (6.4.0)\n",
      "Requirement already satisfied: python-dateutil>=2.1 in /usr/local/lib/python3.5/dist-packages (from jupyter-client>=5.2.0->notebook>=3.0->tutormagic) (2.8.0)\n",
      "Requirement already satisfied: jsonschema!=2.5.0,>=2.4 in /usr/lib/python3/dist-packages (from nbformat->notebook>=3.0->tutormagic) (2.5.1)\n",
      "Collecting html5lib!=1.0b1,!=1.0b2,!=1.0b3,!=1.0b4,!=1.0b5,!=1.0b6,!=1.0b7,!=1.0b8,>=0.99999999pre (from bleach->nbconvert->notebook>=3.0->tutormagic)\n",
      "  Using cached https://files.pythonhosted.org/packages/a5/62/bbd2be0e7943ec8504b517e62bab011b4946e1258842bc159e5dfde15b96/html5lib-1.0.1-py2.py3-none-any.whl\n",
      "Requirement already satisfied: setuptools>=18.5 in /usr/lib/python3/dist-packages (from ipython>=4.0.0->ipykernel->notebook>=3.0->tutormagic) (20.7.0)\n",
      "Requirement already satisfied: prompt-toolkit<2.0.0,>=1.0.15 in /usr/local/lib/python3.5/dist-packages (from ipython>=4.0.0->ipykernel->notebook>=3.0->tutormagic) (1.0.15)\n",
      "Requirement already satisfied: pexpect; sys_platform != \"win32\" in /usr/lib/python3/dist-packages (from ipython>=4.0.0->ipykernel->notebook>=3.0->tutormagic) (4.0.1)\n",
      "Requirement already satisfied: pickleshare in /usr/local/lib/python3.5/dist-packages (from ipython>=4.0.0->ipykernel->notebook>=3.0->tutormagic) (0.7.4)\n",
      "Requirement already satisfied: jedi>=0.10 in /usr/local/lib/python3.5/dist-packages (from ipython>=4.0.0->ipykernel->notebook>=3.0->tutormagic) (0.12.0)\n",
      "Requirement already satisfied: backcall in /usr/local/lib/python3.5/dist-packages (from ipython>=4.0.0->ipykernel->notebook>=3.0->tutormagic) (0.1.0)\n",
      "Requirement already satisfied: simplegeneric>0.8 in /usr/local/lib/python3.5/dist-packages (from ipython>=4.0.0->ipykernel->notebook>=3.0->tutormagic) (0.8.1)\n",
      "Requirement already satisfied: webencodings in /usr/local/lib/python3.5/dist-packages (from html5lib!=1.0b1,!=1.0b2,!=1.0b3,!=1.0b4,!=1.0b5,!=1.0b6,!=1.0b7,!=1.0b8,>=0.99999999pre->bleach->nbconvert->notebook>=3.0->tutormagic) (0.5.1)\n",
      "Requirement already satisfied: wcwidth in /usr/local/lib/python3.5/dist-packages (from prompt-toolkit<2.0.0,>=1.0.15->ipython>=4.0.0->ipykernel->notebook>=3.0->tutormagic) (0.1.7)\n",
      "Requirement already satisfied: parso>=0.2.0 in /usr/local/lib/python3.5/dist-packages (from jedi>=0.10->ipython>=4.0.0->ipykernel->notebook>=3.0->tutormagic) (0.2.1)\n",
      "Installing collected packages: pyzmq, html5lib\n",
      "  Found existing installation: pyzmq 15.2.0\n",
      "\u001b[31mCannot uninstall 'pyzmq'. It is a distutils installed project and thus we cannot accurately determine which files belong to it which would lead to only a partial uninstall.\u001b[0m\n",
      "\u001b[33mYou are using pip version 19.0.3, however version 19.3.1 is available.\n",
      "You should consider upgrading via the 'pip install --upgrade pip' command.\u001b[0m\n"
     ]
    }
   ],
   "source": [
    "!pip3 install tutormagic"
   ]
  },
  {
   "cell_type": "code",
   "execution_count": 4,
   "metadata": {},
   "outputs": [
    {
     "name": "stdout",
     "output_type": "stream",
     "text": [
      "The tutormagic extension is already loaded. To reload it, use:\n",
      "  %reload_ext tutormagic\n"
     ]
    }
   ],
   "source": [
    "%load_ext tutormagic"
   ]
  },
  {
   "cell_type": "markdown",
   "metadata": {},
   "source": [
    "## Arreglos ##"
   ]
  },
  {
   "cell_type": "markdown",
   "metadata": {},
   "source": [
    "### Declaración ###"
   ]
  },
  {
   "cell_type": "code",
   "execution_count": 7,
   "metadata": {},
   "outputs": [
    {
     "data": {
      "text/html": [
       "<div class=\"text-center\"><strong><a style=\"box-sizing: border-box; padding: 0 5px; border: 1px solid #CFCFCF;\" target=\"_\" href=http://pythontutor.com/iframe-embed.html#code=%0Apublic%20class%20ArraysExamples%20%7B%0A%20%20%20%20public%20static%20void%20main%28String%5B%5D%20args%29%20%7B%0A%20%20%20%20%20%20%20%20//%20Forma%201%0A%20%20%20%20%20%20%20%20int%20a%5B%5D%20%3D%20new%20int%20%5B10%5D%3B%0A%20%20%20%20%20%20%20%20//%20Forma%202%0A%20%20%20%20%20%20%20%20final%20int%20N%20%3D%2020%3B%0A%20%20%20%20%20%20%20%20float%20%5B%5D%20vector%3B%0A%20%20%20%20%20%20%20%20vector%20%3D%20new%20float%5BN%5D%3B%0A%0A%20%20%20%20%7D%0A%7D&origin=opt-frontend.js&cumulative=false&heapPrimitives=false&textReferences=false&curInstr=0&&verticalStack=false&py=java&rawInputLstJSON=%5B%5D&codeDivWidth=50%25&codeDivHeight=100%25>Python Tutor</a></strong></div>"
      ],
      "text/plain": [
       "<IPython.core.display.HTML object>"
      ]
     },
     "metadata": {},
     "output_type": "display_data"
    }
   ],
   "source": [
    "%%tutor -l java -k\n",
    "\n",
    "public class ArraysExamples {\n",
    "    public static void main(String[] args) {\n",
    "        // Forma 1\n",
    "        int a[] = new int [10];\n",
    "        // Forma 2\n",
    "        final int N = 20;\n",
    "        float [] vector;\n",
    "        vector = new float[N];\n",
    "\n",
    "    }\n",
    "}"
   ]
  },
  {
   "cell_type": "markdown",
   "metadata": {},
   "source": [
    "### Subindices ###"
   ]
  },
  {
   "cell_type": "code",
   "execution_count": 14,
   "metadata": {},
   "outputs": [
    {
     "data": {
      "text/html": [
       "<div class=\"text-center\"><strong><a style=\"box-sizing: border-box; padding: 0 5px; border: 1px solid #CFCFCF;\" target=\"_\" href=http://pythontutor.com/iframe-embed.html#code=%0Apublic%20class%20ArraysExamples2%20%7B%0A%20%20%20%20public%20static%20void%20main%28String%5B%5D%20args%29%20%7B%0A%20%20%20%20%20%20%20%20float%20s%3B%0A%20%20%20%20%20%20%20%20int%20%5B%5D%20mes%20%3D%20new%20int%5B6%5D%3B%0A%20%20%20%20%20%20%20%20float%20salarios%5B%5D%3B%0A%20%20%20%20%20%20%20%20salarios%20%3D%20new%20float%5B13%5D%3B%0A%20%20%20%20%20%20%20%20mes%5B4%5D%20%3D%202%3B%0A%20%20%20%20%20%20%20%20s%20%3D%20salarios%5Bmes%5B4%5D%2A3%5D%3B%0A%20%20%20%20%7D%0A%7D&origin=opt-frontend.js&cumulative=false&heapPrimitives=false&textReferences=false&curInstr=0&&verticalStack=false&py=java&rawInputLstJSON=%5B%5D&codeDivWidth=50%25&codeDivHeight=100%25>Python Tutor</a></strong></div>"
      ],
      "text/plain": [
       "<IPython.core.display.HTML object>"
      ]
     },
     "metadata": {},
     "output_type": "display_data"
    }
   ],
   "source": [
    "%%tutor -l java -k\n",
    "\n",
    "public class ArraysExamples2 {\n",
    "    public static void main(String[] args) {\n",
    "        float s;\n",
    "        int [] mes = new int[6];\n",
    "        float salarios[];\n",
    "        salarios = new float[13];\n",
    "        mes[4] = 2;\n",
    "        s = salarios[mes[4]*3];\n",
    "    }\n",
    "}"
   ]
  },
  {
   "cell_type": "markdown",
   "metadata": {},
   "source": [
    "### Tamaño de los arreglos, atributo length ###"
   ]
  },
  {
   "cell_type": "code",
   "execution_count": 24,
   "metadata": {},
   "outputs": [
    {
     "data": {
      "text/html": [
       "<div class=\"text-center\"><strong><a style=\"box-sizing: border-box; padding: 0 5px; border: 1px solid #CFCFCF;\" target=\"_\" href=http://pythontutor.com/iframe-embed.html#code=%0Apublic%20class%20ArraysExample2%20%7B%0A%20%20%20%20public%20static%20void%20main%28String%5B%5D%20args%29%20%7B%0A%20%20%20%20%20%20%20%20ArraysExample2%20example%20%3D%20new%20ArraysExample2%28%29%3B%20%20//%20Por%20que%20se%20uso%20%3F%3F%3F%0A%20%20%20%20%20%20%20%20double%20%5B%5D%20v%20%3D%20new%20double%5B4%5D%3B%0A%20%20%20%20%20%20%20%20double%20rSum%20%3D%200%3B%0A%20%20%20%20%20%20%20%20for%20%28int%20i%20%3D%200%3B%20i%20%3C%20v.length%3B%20i%2B%2B%29%20%7B%0A%20%20%20%20%20%20%20%20%20%20%20%20v%5Bi%5D%20%3D%20i%3B%0A%20%20%20%20%20%20%20%20%20%20%20%20System.out.print%28v%5Bi%5D%20%2B%20%22%20%22%29%3B%0A%20%20%20%20%20%20%20%20%7D%0A%20%20%20%20%20%20%20%20System.out.println%28%29%3B%0A%20%20%20%20%20%20%20%20rSum%20%3D%20example.suma%28v%29%3B%20%20//%20Por%20que%20se%20uso%20%3F%3F%3F%0A%20%20%20%20%20%20%20%20System.out.println%28%22Resultado%20suma%3A%20%22%20%2B%20rSum%29%3B%0A%20%20%20%20%7D%0A%20%20%20%20%0A%20%20%20%20double%20suma%20%28double%5B%5D%20w%29%20%7B%0A%20%20%20%20%20%20double%20s%20%3D%200.0%3B%0A%20%20%20%20%20%20for%20%28int%20i%20%3D%200%3B%20i%20%3C%20w.length%3B%20i%2B%2B%29%0A%20%20%20%20%20%20%20%20s%20%2B%3D%20w%5Bi%5D%3B%0A%20%20%20%20%20%20return%20s%3B%0A%20%20%20%20%7D%0A%7D&origin=opt-frontend.js&cumulative=false&heapPrimitives=false&textReferences=false&curInstr=0&&verticalStack=false&py=java&rawInputLstJSON=%5B%5D&codeDivWidth=50%25&codeDivHeight=100%25>Python Tutor</a></strong></div>"
      ],
      "text/plain": [
       "<IPython.core.display.HTML object>"
      ]
     },
     "metadata": {},
     "output_type": "display_data"
    }
   ],
   "source": [
    "%%tutor -l java -k\n",
    "\n",
    "public class ArraysExample2 {\n",
    "    public static void main(String[] args) {\n",
    "        ArraysExample2 example = new ArraysExample2();  // Por que se uso ???\n",
    "        double [] v = new double[4];\n",
    "        double rSum = 0;\n",
    "        for (int i = 0; i < v.length; i++) {\n",
    "            v[i] = i;\n",
    "            System.out.print(v[i] + \" \");\n",
    "        }\n",
    "        System.out.println();\n",
    "        rSum = example.suma(v);  // Por que se uso ???\n",
    "        System.out.println(\"Resultado suma: \" + rSum);\n",
    "    }\n",
    "    \n",
    "    double suma (double[] w) {\n",
    "      double s = 0.0;\n",
    "      for (int i = 0; i < w.length; i++)\n",
    "        s += w[i];\n",
    "      return s;\n",
    "    }\n",
    "}"
   ]
  },
  {
   "cell_type": "markdown",
   "metadata": {},
   "source": [
    "### Verificación del índice de un arreglo ###\n",
    "En el siguiente fragmento de código se muestra proteger un vector de un error por indice fuera de rango\n",
    "\n",
    "```java\n",
    "int datos(double a[])\n",
    "{\n",
    "  int n;\n",
    "  System.out.println(\"Entrada de datos, cuantos elementos: ? \");\n",
    "  n = entrada.nextInt();\n",
    "  if (n > a.length)\n",
    "    return 0;\n",
    "  for (int i = 0; i < n; i++)\n",
    "    a[i]= entrada.nextDouble();\n",
    "  return 1;\n",
    "}\n",
    "```\n"
   ]
  },
  {
   "cell_type": "markdown",
   "metadata": {},
   "source": [
    "### Inicialización de un arreglo ###\n",
    "\n",
    "#### Ejemplo 1 ####\n",
    "\n",
    "```java\n",
    "int numeros[] = {10, 20, 30, 40, 50, 60};\n",
    "int[]nms = {3, 4, 5}\n",
    "char c[] = {'L','u','i','s'};\n",
    "```\n",
    "\n",
    "#### Ejemplo 2 ####\n",
    "\n",
    "```java\n",
    "final int ENE = 31, FEB = 28, MAR = 31, ABR = 30, MAY = 31,\n",
    "          JUN = 30, JUL = 31, AGO = 31, SEP = 30, OCT = 31,\n",
    "           NOV = 30, DIC = 31;\n",
    "\n",
    "int meses[] = {ENE, FEB, MAR, ABR, MAY, JUN, JUL, AGO, SEP, OCT, NOV, DIC};\n",
    "```\n"
   ]
  },
  {
   "cell_type": "markdown",
   "metadata": {},
   "source": [
    "### Ejercicio 10.1 ###\n",
    "El programa escrito a continuación lee NUM enteros en un arreglo,\n",
    "multiplica los elementos del arreglo y visualiza el producto.\n",
    "\n",
    "**Solución**:\n",
    "    \n",
    "```java\n",
    "import java.util.Scanner;\n",
    "\n",
    "class Inicial {\n",
    "    public static void main(String [] a) {\n",
    "        final int NUM = 10;\n",
    "        Scanner entrada = new Scanner(System.in);\n",
    "        int []nums= new int[NUM];\n",
    "        int total = 1;\n",
    "        \n",
    "        System.out.println(\"Por favor, introduzca \" + NUM + \" datos\");\n",
    "        for (int i = 0; i < NUM; i++) {\n",
    "            nums[i] = entrada.nextInt();\n",
    "        }\n",
    "        \n",
    "        System.out.print(\"\\nLista de números: \");\n",
    "        for (int i = 0; i < NUM; i++) {\n",
    "            System.out.print(\" \" + nums[i]);\n",
    "            total *= nums[i];\n",
    "        }\n",
    "        \n",
    "        System.out.println(\"\\nEl producto de los números es \" + total);\n",
    "    }\n",
    "}\n",
    "```    "
   ]
  },
  {
   "cell_type": "markdown",
   "metadata": {},
   "source": [
    "### Copia de arreglos ###"
   ]
  },
  {
   "cell_type": "markdown",
   "metadata": {},
   "source": [
    "Observe el siguiente fragmendo de codigo:"
   ]
  },
  {
   "cell_type": "code",
   "execution_count": 27,
   "metadata": {},
   "outputs": [
    {
     "data": {
      "text/html": [
       "<div class=\"text-center\"><strong><a style=\"box-sizing: border-box; padding: 0 5px; border: 1px solid #CFCFCF;\" target=\"_\" href=http://pythontutor.com/iframe-embed.html#code=%0Apublic%20class%20CopyExample2%20%7B%0A%20%20%20%20public%20static%20void%20main%28String%5B%5D%20args%29%20%7B%0A%20%20%20%20%20%20%20%20double%20%5B%5D%20r%2C%20w%3B%0A%20%20%20%20%20%20%20%20r%20%3D%20new%20double%5B11%5D%3B%0A%20%20%20%20%20%20%20%20w%20%3D%20new%20double%5B15%5D%3B%0A%20%20%20%20%20%20%20%20for%20%28int%20j%20%3D%200%3B%20j%20%3C%20r.length%3B%20j%2B%2B%29%20%7B%0A%20%20%20%20%20%20%20%20%20%20%20%20r%5Bj%5D%20%3D%20%28double%29%202%2Aj-1%3B%0A%20%20%20%20%20%20%20%20%7D%0A%20%20%20%20%20%20%20%20//%20asignaci%C3%B3n%20del%20arreglo%20r%20a%20w%0A%20%20%20%20%20%20%20%20w%20%3D%20r%3B%0A%20%20%20%20%20%20%20%20r%5B3%5D%20%3D%204%3B%0A%20%20%20%20%20%20%20%20w%5B4%5D%20%3D%20-6%3B%0A%20%20%20%20%7D%0A%7D&origin=opt-frontend.js&cumulative=false&heapPrimitives=false&textReferences=false&curInstr=0&&verticalStack=false&py=java&rawInputLstJSON=%5B%5D&codeDivWidth=50%25&codeDivHeight=100%25>Python Tutor</a></strong></div>"
      ],
      "text/plain": [
       "<IPython.core.display.HTML object>"
      ]
     },
     "metadata": {},
     "output_type": "display_data"
    }
   ],
   "source": [
    "%%tutor -l java -k\n",
    "\n",
    "public class CopyExample2 {\n",
    "    public static void main(String[] args) {\n",
    "        double [] r, w;\n",
    "        r = new double[11];\n",
    "        w = new double[15];\n",
    "        for (int j = 0; j < r.length; j++) {\n",
    "            r[j] = (double) 2*j-1;\n",
    "        }\n",
    "        // asignación del arreglo r a w\n",
    "        w = r;\n",
    "        r[3] = 4;\n",
    "        w[4] = -6;\n",
    "    }\n",
    "}"
   ]
  },
  {
   "cell_type": "markdown",
   "metadata": {},
   "source": [
    "Ahora, observe el siguiente codigo. ¿En que se diferencia respecto al anterior?"
   ]
  },
  {
   "cell_type": "code",
   "execution_count": 28,
   "metadata": {},
   "outputs": [
    {
     "data": {
      "text/html": [
       "<div class=\"text-center\"><strong><a style=\"box-sizing: border-box; padding: 0 5px; border: 1px solid #CFCFCF;\" target=\"_\" href=http://pythontutor.com/iframe-embed.html#code=%0Apublic%20class%20CopyExample1%20%7B%0A%20%20%20%20public%20static%20void%20main%28String%5B%5D%20args%29%20%7B%0A%20%20%20%20%20%20%20%20double%20%5B%5D%20r%2C%20w%3B%0A%20%20%20%20%20%20%20%20r%20%3D%20new%20double%5B11%5D%3B%0A%20%20%20%20%20%20%20%20w%20%3D%20new%20double%5B11%5D%3B%0A%20%20%20%20%20%20%20%20for%20%28int%20j%20%3D%200%3B%20j%20%3C%20r.length%3B%20j%2B%2B%29%20%7B%0A%20%20%20%20%20%20%20%20%20%20%20%20r%5Bj%5D%20%3D%20%28double%29%202%2Aj-1%3B%0A%20%20%20%20%20%20%20%20%7D%0A%20%20%20%20%20%20%20%20//%20asignaci%C3%B3n%20del%20arreglo%20r%20a%20w%0A%20%20%20%20%20%20%20%20for%20%28int%20j%20%3D%200%3B%20j%20%3C%20r.length%3B%20j%2B%2B%29%20%7B%0A%20%20%20%20%20%20%20%20%20%20%20%20w%5Bj%5D%20%3D%20r%5Bj%5D%3B%0A%20%20%20%20%20%20%20%20%7D%0A%20%20%20%20%20%20%20%20r%5B3%5D%20%3D%204%3B%0A%20%20%20%20%20%20%20%20w%5B4%5D%20%3D%20-6%3B%0A%20%20%20%20%7D%0A%7D&origin=opt-frontend.js&cumulative=false&heapPrimitives=false&textReferences=false&curInstr=0&&verticalStack=false&py=java&rawInputLstJSON=%5B%5D&codeDivWidth=50%25&codeDivHeight=100%25>Python Tutor</a></strong></div>"
      ],
      "text/plain": [
       "<IPython.core.display.HTML object>"
      ]
     },
     "metadata": {},
     "output_type": "display_data"
    }
   ],
   "source": [
    "%%tutor -l java -k\n",
    "\n",
    "public class CopyExample1 {\n",
    "    public static void main(String[] args) {\n",
    "        double [] r, w;\n",
    "        r = new double[11];\n",
    "        w = new double[11];\n",
    "        for (int j = 0; j < r.length; j++) {\n",
    "            r[j] = (double) 2*j-1;\n",
    "        }\n",
    "        // asignación del arreglo r a w\n",
    "        for (int j = 0; j < r.length; j++) {\n",
    "            w[j] = r[j];\n",
    "        }\n",
    "        r[3] = 4;\n",
    "        w[4] = -6;\n",
    "    }\n",
    "}"
   ]
  },
  {
   "cell_type": "markdown",
   "metadata": {},
   "source": [
    "### Metodo arraycopy ###\n",
    "\n",
    "**Sintaxis**:\n",
    "\n",
    "```java\n",
    "System.arraycopy (arreglo Origen, inicioOrigen, arreglo Destino, inicioDestino, numElementos)\n",
    "```\n",
    "\n",
    "**Donde**:\n",
    "* **arreglo Origen**: nombre del arreglo que se va a copiar.\n",
    "* **inicioOrigen**: posición del arreglo origen donde se inicia la copia.\n",
    "* **arreglo Destino**: nombre del arreglo en el que se hace la copia.\n",
    "* **inicioDestino**: es la posición del arreglo destino donde empieza la copia.\n",
    "* **numElementos**: número de elementos del arreglo origen que se van a copiar."
   ]
  },
  {
   "cell_type": "code",
   "execution_count": 29,
   "metadata": {},
   "outputs": [
    {
     "data": {
      "text/html": [
       "<div class=\"text-center\"><strong><a style=\"box-sizing: border-box; padding: 0 5px; border: 1px solid #CFCFCF;\" target=\"_\" href=http://pythontutor.com/iframe-embed.html#code=%0Apublic%20class%20CopyExample3%20%7B%0A%20%20%20%20public%20static%20void%20main%28String%5B%5D%20args%29%20%7B%0A%20%20%20%20%20%20%20%20double%20%5B%5D%20r%2C%20w%3B%0A%20%20%20%20%20%20%20%20r%20%3D%20new%20double%5B11%5D%3B%0A%20%20%20%20%20%20%20%20w%20%3D%20new%20double%5B11%5D%3B%0A%20%20%20%20%20%20%20%20for%20%28int%20j%20%3D%200%3B%20j%20%3C%20r.length%3B%20j%2B%2B%29%20%7B%0A%20%20%20%20%20%20%20%20%20%20%20%20r%5Bj%5D%20%3D%20%28double%29%202%2Aj-1%3B%0A%20%20%20%20%20%20%20%20%7D%0A%20%20%20%20%20%20%20%20//%20asignaci%C3%B3n%20del%20arreglo%20r%20a%20w%0A%20%20%20%20%20%20%20%20System.arraycopy%20%28r%2C%200%2C%20w%2C%200%2C%20r.length%29%3B%0A%20%20%20%20%20%20%20%20r%5B3%5D%20%3D%204%3B%0A%20%20%20%20%20%20%20%20w%5B4%5D%20%3D%20-6%3B%0A%20%20%20%20%7D%0A%7D&origin=opt-frontend.js&cumulative=false&heapPrimitives=false&textReferences=false&curInstr=0&&verticalStack=false&py=java&rawInputLstJSON=%5B%5D&codeDivWidth=50%25&codeDivHeight=100%25>Python Tutor</a></strong></div>"
      ],
      "text/plain": [
       "<IPython.core.display.HTML object>"
      ]
     },
     "metadata": {},
     "output_type": "display_data"
    }
   ],
   "source": [
    "%%tutor -l java -k\n",
    "\n",
    "public class CopyExample3 {\n",
    "    public static void main(String[] args) {\n",
    "        double [] r, w;\n",
    "        r = new double[11];\n",
    "        w = new double[11];\n",
    "        for (int j = 0; j < r.length; j++) {\n",
    "            r[j] = (double) 2*j-1;\n",
    "        }\n",
    "        // asignación del arreglo r a w\n",
    "        System.arraycopy (r, 0, w, 0, r.length);\n",
    "        r[3] = 4;\n",
    "        w[4] = -6;\n",
    "    }\n",
    "}"
   ]
  },
  {
   "cell_type": "markdown",
   "metadata": {},
   "source": [
    "### Ejercicio 10.2 ###\n",
    "Definir dos arreglos de tipo double, v y w con 15 y 20 elementos respectivamente; \n",
    "en el primero se guardan los valores de la función e^(2*x - 1); el segundo inicializa cada elemento al ordinal del elemento; después se copian los 10 últimos\n",
    "elementos de v a partir del elemento 11 de w; por ultimo, se escriben los\n",
    "elementos de ambos arreglos.\n",
    "\n",
    "**Solución**:\n",
    "    \n",
    "```java\n",
    "public class CopiArreglo\n",
    "{\n",
    "    public static void main(String [] a)\n",
    "    {\n",
    "        final int N = 15;\n",
    "        final int M = 20;\n",
    "        double [] v = new double[N];\n",
    "        double [] w = new double [M];\n",
    "        double x = 1.0;\n",
    "\n",
    "        for (int i = 0; i < N; x+=0.2,i++) {\n",
    "            v[i] = Math.exp(2 * x - 1);\n",
    "        }\n",
    "\n",
    "        for (int i = 0; i < M; i++) {\n",
    "            w[i] = (double) i;\n",
    "        }\n",
    "\n",
    "        // Se imprimen los elementos del vector v\n",
    "        System.out.println(\"\\n Valores del vector v\");\n",
    "        for (int i = 0; i < N; i++) {\n",
    "            System.out.print(v[i] + \" \");\n",
    "        }\n",
    "\n",
    "        // Es realizada la copia de v a w\n",
    "        System.arraycopy(v, (N-1)-10 +1, w, 10, 10);\n",
    "\n",
    "        // Se imprimen los elementos del vector w\n",
    "        System.out.println(\"\\n Valores del vector w\");\n",
    "        for (int i = 0; i < M; i++) {\n",
    "            System.out.print(w[i] + \" \");\n",
    "        }\n",
    "    }\n",
    "}\n",
    "```  "
   ]
  },
  {
   "cell_type": "markdown",
   "metadata": {},
   "source": [
    "### Bucle for each para recorrido de arreglos y colecciones ###"
   ]
  },
  {
   "cell_type": "code",
   "execution_count": 32,
   "metadata": {},
   "outputs": [
    {
     "data": {
      "text/html": [
       "<div class=\"text-center\"><strong><a style=\"box-sizing: border-box; padding: 0 5px; border: 1px solid #CFCFCF;\" target=\"_\" href=http://pythontutor.com/iframe-embed.html#code=%0Apublic%20class%20Bucle%20%7B%0A%20%20%20%20public%20static%20void%20main%28String%5B%5D%20args%29%20%7B%0A%20%20%20%20%20%20%20%20int%20sumA%20%3D%200%2C%20sumB%20%3D%200%3B%0A%20%20%20%20%20%20%20%20int%20%5B%5D%20a%20%3D%20%7B1%2C2%2C3%7D%3B%0A%20%20%20%20%20%20%20%20int%20%5B%5D%20b%20%3D%20%7B4%2C5%2C6%7D%3B%0A%20%20%20%20%20%20%20%20%0A%20%20%20%20%20%20%20%20//%20Forma%20tradicional%0A%20%20%20%20%20%20%20%20for%20%28int%20i%20%3D%200%3B%20i%20%3C%20a.length%3B%20i%2B%2B%29%20%7B%0A%20%20%20%20%20%20%20%20%20%20%20%20System.out.print%28a%5Bi%5D%20%2B%20%22%20%22%29%3B%0A%20%20%20%20%20%20%20%20%20%20%20%20sumA%20%2B%3D%20a%5Bi%5D%3B%0A%20%20%20%20%20%20%20%20%7D%0A%20%20%20%20%20%20%20%20System.out.print%28%22%5CnsumA%20%3D%20%22%20%2B%20sumA%20%2B%20%22%5Cn%5Cn%22%29%3B%0A%20%20%20%20%20%20%20%20//%20Forma%20for%20each%0A%20%20%20%20%20%20%20%20for%20%28int%20num%3Ab%29%20%7B%0A%20%20%20%20%20%20%20%20%20%20%20%20System.out.print%28num%20%2B%20%22%20%22%29%3B%0A%20%20%20%20%20%20%20%20%20%20%20%20sumB%20%2B%3D%20num%3B%0A%20%20%20%20%20%20%20%20%7D%0A%20%20%20%20%20%20%20%20System.out.print%28%22%5CnsumB%20%3D%20%22%20%2B%20sumB%20%2B%20%22%5Cn%22%29%3B%0A%20%20%20%20%7D%0A%7D&origin=opt-frontend.js&cumulative=false&heapPrimitives=false&textReferences=false&curInstr=0&&verticalStack=false&py=java&rawInputLstJSON=%5B%5D&codeDivWidth=50%25&codeDivHeight=100%25>Python Tutor</a></strong></div>"
      ],
      "text/plain": [
       "<IPython.core.display.HTML object>"
      ]
     },
     "metadata": {},
     "output_type": "display_data"
    }
   ],
   "source": [
    "%%tutor -l java -k\n",
    "\n",
    "public class Bucle {\n",
    "    public static void main(String[] args) {\n",
    "        int sumA = 0, sumB = 0;\n",
    "        int [] a = {1,2,3};\n",
    "        int [] b = {4,5,6};\n",
    "        \n",
    "        // Forma tradicional\n",
    "        for (int i = 0; i < a.length; i++) {\n",
    "            System.out.print(a[i] + \" \");\n",
    "            sumA += a[i];\n",
    "        }\n",
    "        System.out.print(\"\\nsumA = \" + sumA + \"\\n\\n\");\n",
    "        // Forma for each\n",
    "        for (int num:b) {\n",
    "            System.out.print(num + \" \");\n",
    "            sumB += num;\n",
    "        }\n",
    "        System.out.print(\"\\nsumB = \" + sumB + \"\\n\");\n",
    "    }\n",
    "}"
   ]
  },
  {
   "cell_type": "code",
   "execution_count": null,
   "metadata": {},
   "outputs": [],
   "source": []
  }
 ],
 "metadata": {
  "kernelspec": {
   "display_name": "Python 3",
   "language": "python",
   "name": "python3"
  },
  "language_info": {
   "codemirror_mode": {
    "name": "ipython",
    "version": 3
   },
   "file_extension": ".py",
   "mimetype": "text/x-python",
   "name": "python",
   "nbconvert_exporter": "python",
   "pygments_lexer": "ipython3",
   "version": "3.4.6"
  }
 },
 "nbformat": 4,
 "nbformat_minor": 2
}
